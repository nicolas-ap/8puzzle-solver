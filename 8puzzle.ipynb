{
 "cells": [
  {
   "cell_type": "code",
   "execution_count": 132,
   "metadata": {},
   "outputs": [],
   "source": [
    "import copy\n",
    "import random\n",
    "from time import perf_counter"
   ]
  },
  {
   "cell_type": "code",
   "execution_count": 133,
   "metadata": {},
   "outputs": [],
   "source": [
    "    \n",
    "def count_inversions(num_list):\n",
    "    inv_count = 0\n",
    "\n",
    "    for i in range(len(num_list) - 1):\n",
    "        for j in range(i+1, len(num_list)):\n",
    "            if (num_list[i] > num_list[j]) and ((num_list[i] != 0) and (num_list[j] != 0)):\n",
    "                inv_count += 1\n",
    "\n",
    "    return inv_count\n"
   ]
  },
  {
   "cell_type": "code",
   "execution_count": 134,
   "metadata": {},
   "outputs": [
    {
     "name": "stdout",
     "output_type": "stream",
     "text": [
      "[[3, 1, 2], [4, 0, 5], [6, 7, 8]]\n"
     ]
    }
   ],
   "source": [
    "def generate_state():\n",
    "\n",
    "    num_list = [0,1,2,3,4,5,6,7,8]\n",
    "\n",
    "    num_inversions = 1\n",
    "\n",
    "    while num_inversions % 2 != 0:\n",
    "        \n",
    "        k = 0\n",
    "        random.shuffle(num_list)\n",
    "        puzzle = []\n",
    "        num_inversions = count_inversions(num_list)\n",
    "        if num_inversions % 2 == 0:\n",
    "            print(num_inversions)\n",
    "            for i in range(3):\n",
    "                a = []\n",
    "                for j in range(3):\n",
    "                    a.append(num_list[k])\n",
    "                    k += 1\n",
    "                puzzle.append(a)\n",
    "\n",
    "    return puzzle\n",
    "initial_state = [[3,1,2],[4,0,5],[6,7,8]] #d=2\n",
    "# initial_state = [[1,4,2],[6,3,5],[0,7,8]] #d=4\n",
    "# initial_state = [[1,4,2],[3,0,7],[6,8,5]] #d=6\n",
    "# initial_state = [[1,4,2],[6,3,7],[0,8,5]] #d=8\n",
    "# initial_state = [[3,2,0],[6,1,8],[7,5,4]] #d=10\n",
    "# initial_state = [[1,2,5],[3,4,6],[7,8,0]] #d=12\n",
    "# #initial_state = [[6,1,5],[2,0,8],[7,3,4]] #d=16 irresolvivel\n",
    "# initial_state = [[3,2,8],[6,0,1],[5,4,7]] #d=14\n",
    "# # initial_state = [[3,8,1],[6,4,2],[5,7,0]] #d=20\n",
    "# # initial_state = [[3,2,0],[4,8,7],[6,5,1]] #d=24\n",
    "# initial_state = generate_state()\n",
    "print(initial_state)\n",
    "\n",
    "target_state = [[0,1,2],[3,4,5],[6,7,8]]\n"
   ]
  },
  {
   "cell_type": "code",
   "execution_count": 135,
   "metadata": {},
   "outputs": [],
   "source": [
    "class Node:\n",
    "    def __init__(self, state, child, g = 0, f = 0, father = None):\n",
    "        self.father = father\n",
    "        self.state = state\n",
    "        self.child = child\n",
    "        self.g = g\n",
    "        self.f = f"
   ]
  },
  {
   "cell_type": "code",
   "execution_count": 136,
   "metadata": {},
   "outputs": [],
   "source": [
    "def get_zero_index(state_puzzle):\n",
    "    zero_idx = None\n",
    "    for i in range(3):\n",
    "        for j in range(3):\n",
    "            if state_puzzle[i][j] == 0:\n",
    "                zero_idx = (i,j)\n",
    "    return zero_idx\n",
    "    \n",
    "def up(state_puzzle, zero_idx):\n",
    "    new_state = copy.deepcopy(state_puzzle)\n",
    "    aux = new_state[zero_idx[0]][zero_idx[1]]\n",
    "    new_state[zero_idx[0]][zero_idx[1]] = new_state[zero_idx[0]-1][zero_idx[1]]\n",
    "    new_state[zero_idx[0]-1][zero_idx[1]] = aux\n",
    "    return new_state\n",
    "\n",
    "def down(state_puzzle, zero_idx):\n",
    "    new_state = copy.deepcopy(state_puzzle)\n",
    "    aux = new_state[zero_idx[0]][zero_idx[1]]\n",
    "    new_state[zero_idx[0]][zero_idx[1]] = new_state[zero_idx[0]+1][zero_idx[1]]\n",
    "    new_state[zero_idx[0]+1][zero_idx[1]] = aux\n",
    "    return new_state\n",
    "\n",
    "def right(state_puzzle, zero_idx):\n",
    "    new_state = copy.deepcopy(state_puzzle)\n",
    "    aux = new_state[zero_idx[0]][zero_idx[1]]\n",
    "    new_state[zero_idx[0]][zero_idx[1]] = new_state[zero_idx[0]][zero_idx[1]+1]\n",
    "    new_state[zero_idx[0]][zero_idx[1]+1] = aux\n",
    "    return new_state\n",
    "\n",
    "def left(state_puzzle, zero_idx):\n",
    "    new_state = copy.deepcopy(state_puzzle)\n",
    "    aux = new_state[zero_idx[0]][zero_idx[1]]\n",
    "    new_state[zero_idx[0]][zero_idx[1]] = new_state[zero_idx[0]][zero_idx[1]-1]\n",
    "    new_state[zero_idx[0]][zero_idx[1]-1] = aux\n",
    "    return new_state\n",
    "\n",
    "def verify_moviments(zero_idx):\n",
    "    can_move_to = []\n",
    "    if zero_idx[0] == 0: \n",
    "        can_move_to.append(\"down\")\n",
    "    elif zero_idx[0] == 1:\n",
    "        can_move_to.append(\"down\")\n",
    "        can_move_to.append(\"up\")\n",
    "    elif zero_idx[0] == 2: \n",
    "        can_move_to.append(\"up\")\n",
    "\n",
    "    if zero_idx[1] == 0: \n",
    "        can_move_to.append(\"right\")\n",
    "    elif zero_idx[1] == 1: \n",
    "        can_move_to.append(\"right\")\n",
    "        can_move_to.append(\"left\")\n",
    "    elif zero_idx[1] == 2: \n",
    "        can_move_to.append(\"left\")\n",
    "    return can_move_to\n",
    "\n",
    "\n",
    "def make_moviments(state_to_move, zero_idx, can_move_to):\n",
    "    child_list = []\n",
    "    while can_move_to:\n",
    "        first_move = can_move_to.pop(0)\n",
    "        \n",
    "        match first_move:\n",
    "            case \"right\":\n",
    "                child_list.append(right(state_to_move,zero_idx))\n",
    "                \n",
    "            case \"left\":\n",
    "                child_list.append(left(state_to_move,zero_idx))\n",
    "                \n",
    "            case \"up\":\n",
    "                child_list.append(up(state_to_move,zero_idx))\n",
    "                \n",
    "            case \"down\":\n",
    "                child_list.append(down(state_to_move,zero_idx))\n",
    "    return child_list\n",
    "\n",
    "\n",
    "def expand_nodes(state):\n",
    "    zero_index = get_zero_index(state_puzzle = state)\n",
    "    valid_moviments = verify_moviments(zero_idx = zero_index)\n",
    "    # print(valid_moviments)\n",
    "    child_state_list = make_moviments(state_to_move= state, zero_idx = zero_index, can_move_to= valid_moviments)\n",
    "    return child_state_list\n"
   ]
  },
  {
   "cell_type": "code",
   "execution_count": 137,
   "metadata": {},
   "outputs": [
    {
     "name": "stdout",
     "output_type": "stream",
     "text": [
      "Estado inicial -> [[3, 1, 2], [4, 0, 5], [6, 7, 8]]\n",
      "Expande para:\n"
     ]
    },
    {
     "data": {
      "text/plain": [
       "[[[3, 1, 2], [4, 7, 5], [6, 0, 8]],\n",
       " [[3, 0, 2], [4, 1, 5], [6, 7, 8]],\n",
       " [[3, 1, 2], [4, 5, 0], [6, 7, 8]],\n",
       " [[3, 1, 2], [0, 4, 5], [6, 7, 8]]]"
      ]
     },
     "execution_count": 137,
     "metadata": {},
     "output_type": "execute_result"
    }
   ],
   "source": [
    "print(f\"Estado inicial -> {initial_state}\")\n",
    "print(\"Expande para:\")\n",
    "expand_nodes(state = initial_state)\n"
   ]
  },
  {
   "cell_type": "code",
   "execution_count": 138,
   "metadata": {},
   "outputs": [],
   "source": [
    "def manhattam_distance(state):\n",
    "    goal_cordinates = {\n",
    "\n",
    "        0 : (0,0),\n",
    "        1 : (0,1),\n",
    "        2 : (0,2),\n",
    "        3 : (1,0),\n",
    "        4 : (1,1),\n",
    "        5 : (1,2),\n",
    "        6 : (2,0),\n",
    "        7 : (2,1),\n",
    "        8 : (2,2)\n",
    "    }\n",
    "    \n",
    "    count_manhattam = 0\n",
    "    for i in range(3):\n",
    "        for j in range(3):\n",
    "            st = state[i][j]\n",
    "            if st != 0:\n",
    "                count_manhattam = count_manhattam + (abs(i - goal_cordinates[st][0]) + abs(j - goal_cordinates[st][1]))\n",
    "    return count_manhattam\n",
    "\n",
    "\n"
   ]
  },
  {
   "cell_type": "code",
   "execution_count": 139,
   "metadata": {},
   "outputs": [],
   "source": [
    "def wrong_blocks(state):\n",
    "    goal_cordinates = {\n",
    "\n",
    "        0 : (0,0),\n",
    "        1 : (0,1),\n",
    "        2 : (0,2),\n",
    "        3 : (1,0),\n",
    "        4 : (1,1),\n",
    "        5 : (1,2),\n",
    "        6 : (2,0),\n",
    "        7 : (2,1),\n",
    "        8 : (2,2)\n",
    "    }\n",
    "    \n",
    "    count_wb = 0\n",
    "    for i in range(3):\n",
    "        for j in range(3):\n",
    "            st = state[i][j]\n",
    "            if st != 0:\n",
    "                if (i,j) != goal_cordinates[st]: count_wb += 1\n",
    "                \n",
    "    return count_wb"
   ]
  },
  {
   "cell_type": "code",
   "execution_count": 140,
   "metadata": {},
   "outputs": [
    {
     "name": "stdout",
     "output_type": "stream",
     "text": [
      "Distancia de Manhattam do estado inicial: \n",
      "2\n",
      "Quantidade de blocos fora do lugar: \n",
      "2\n",
      "[[3 1 2]\n",
      " [4 0 5]\n",
      " [6 7 8]]\n"
     ]
    }
   ],
   "source": [
    "import numpy as np\n",
    "print(\"Distancia de Manhattam do estado inicial: \")\n",
    "print(manhattam_distance(initial_state))\n",
    "print(\"Quantidade de blocos fora do lugar: \")\n",
    "print(wrong_blocks(initial_state))\n",
    "print(np.array(initial_state))"
   ]
  },
  {
   "cell_type": "code",
   "execution_count": 141,
   "metadata": {},
   "outputs": [],
   "source": [
    "def BreathFirstSearch(initial, target, successor_function):\n",
    "\n",
    "    target_path = target\n",
    "    node = Node(initial, successor_function(initial))\n",
    "    frontier = []\n",
    "    explored_names = []\n",
    "    explored_nodes = []\n",
    "    pathway = []\n",
    "\n",
    "    frontier.append(node)\n",
    "\n",
    "\n",
    "    while frontier:\n",
    "\n",
    "        # print(\"\\nFronteira:\")\n",
    "        # for nd in frontier:\n",
    "        #     print(f\"({nd.g}, {nd.state}),\")\n",
    "        # print()\n",
    "    \n",
    "        \n",
    "        first_node = frontier.pop(0)\n",
    "        explored_nodes.append(first_node)\n",
    "\n",
    "        # print(f\"Explora-se: {first_node.state}\")\n",
    "\n",
    "        if first_node.state == target_path:\n",
    "            for n in reversed(explored_nodes):\n",
    "                if n.state == target_path:\n",
    "                    pathway.append(n.state)\n",
    "                    target_path = n.father\n",
    "            pathway.reverse()\n",
    "            return f\"Caminho: {pathway}, Custo: {first_node.g}, Expansões: {len(explored_nodes)-1}, A serem expandidos: {len(frontier)}\"\n",
    "        \n",
    "        explored_names.append(first_node.state)\n",
    "        # print(f\"Lista de explorados: {explored_names}\")\n",
    "        # print(f\"{first_node.state} abre para: \")\n",
    "\n",
    "        for state in first_node.child:\n",
    "            # print(state)\n",
    "            node = Node(state = state, child = successor_function(state), g = first_node.g + 1, father = first_node.state)\n",
    "            \n",
    "            frontier_states = [frontier_node.state for frontier_node in frontier]\n",
    "\n",
    "            if node.state not in explored_names and node.state not in frontier_states:\n",
    "                frontier.append(node)\n",
    "    "
   ]
  },
  {
   "cell_type": "code",
   "execution_count": 142,
   "metadata": {},
   "outputs": [],
   "source": [
    "# result_bfs = None\n",
    "# while result_bfs == None:\n",
    "#     initial_state = generate_state()\n",
    "#     result_bfs = BreathFirstSearch(initial= initial_state, target=target_state, successor_function=expand_nodes, max_lim=2)\n",
    "# print(result_bfs)"
   ]
  },
  {
   "cell_type": "code",
   "execution_count": 160,
   "metadata": {},
   "outputs": [
    {
     "name": "stdout",
     "output_type": "stream",
     "text": [
      "Resultado: Caminho: [[[3, 2, 8], [6, 0, 1], [5, 4, 7]], [[3, 2, 8], [6, 4, 1], [5, 0, 7]], [[3, 2, 8], [6, 4, 1], [0, 5, 7]], [[3, 2, 8], [0, 4, 1], [6, 5, 7]], [[3, 2, 8], [4, 0, 1], [6, 5, 7]], [[3, 2, 8], [4, 1, 0], [6, 5, 7]], [[3, 2, 0], [4, 1, 8], [6, 5, 7]], [[3, 0, 2], [4, 1, 8], [6, 5, 7]], [[3, 1, 2], [4, 0, 8], [6, 5, 7]], [[3, 1, 2], [4, 5, 8], [6, 0, 7]], [[3, 1, 2], [4, 5, 8], [6, 7, 0]], [[3, 1, 2], [4, 5, 0], [6, 7, 8]], [[3, 1, 2], [4, 0, 5], [6, 7, 8]], [[3, 1, 2], [0, 4, 5], [6, 7, 8]], [[0, 1, 2], [3, 4, 5], [6, 7, 8]]], Custo: 14, Expansões: 4293, A serem expandidos: 2576\n",
      "Tempo de execução: 2.52154 segundos\n"
     ]
    }
   ],
   "source": [
    "initial_state = [[3,1,2],[4,0,5],[6,7,8]] #d=2\n",
    "initial_state = [[1,4,2],[6,3,5],[0,7,8]] #d=4\n",
    "initial_state = [[1,4,2],[3,0,7],[6,8,5]] #d=6\n",
    "initial_state = [[1,4,2],[6,3,7],[0,8,5]] #d=8\n",
    "initial_state = [[3,2,0],[6,1,8],[7,5,4]] #d=10\n",
    "initial_state = [[1,2,5],[3,4,6],[7,8,0]] #d=12\n",
    "# #initial_state = [[6,1,5],[2,0,8],[7,3,4]] #d=16 irresolvivel\n",
    "initial_state = [[3,2,8],[6,0,1],[5,4,7]] #d=14\n",
    "\n",
    "start_time = perf_counter()\n",
    "result_bfs = BreathFirstSearch(initial= initial_state, target=target_state, successor_function=expand_nodes)\n",
    "end_time = perf_counter()\n",
    "\n",
    "print(\"Resultado:\", result_bfs)\n",
    "print(\"Tempo de execução:\", format(end_time - start_time, \".5f\"), \"segundos\")"
   ]
  },
  {
   "cell_type": "code",
   "execution_count": 144,
   "metadata": {},
   "outputs": [],
   "source": [
    "#[[1, 2, 3], [4, 5, 6], [0, 7, 8]] estado com d = 2\n"
   ]
  },
  {
   "cell_type": "code",
   "execution_count": 145,
   "metadata": {},
   "outputs": [],
   "source": [
    "def IterativeDeepeningSearch(initial, target, successor_function):\n",
    "    i = 0\n",
    "    res = None\n",
    "    while res == None:\n",
    "        print(f\"----------------- Iteração {i} -----------------\")\n",
    "        res = DepthLimitedSearch(initial=initial, target=target, limit=i, successor_function = successor_function)\n",
    "        if type(res) == tuple:\n",
    "            return f\"Caminho: {res[0]}, Custo: {res[1]}, Expansões: {len(res[2]) - 1}\"\n",
    "        i +=1\n",
    "    \n",
    "def DepthLimitedSearch(initial, target, successor_function, limit):\n",
    "    node = Node(state=initial, child=successor_function(initial), g = 0, father=None)\n",
    "    return RecursiveDLS(target=target, node=node, successor_function=successor_function, limit=limit, pathway = [], explored_nodes= [])\n",
    "        \n",
    "def RecursiveDLS(target, node, limit, successor_function, pathway, explored_nodes):\n",
    "    \n",
    "    # print(\"\\nFronteira:\")\n",
    "    # print(f\"({node.g}, {node.state}),\")\n",
    "    \n",
    "    explored_nodes.append(node)\n",
    "    pathway.append(node.state)\n",
    "\n",
    "    # print(\"\\nNós explorados:\")\n",
    "    # for en in explored_nodes:\n",
    "    #     print(f\"({en.g}, {en.state}),\", end=' ')\n",
    "    # print()\n",
    "\n",
    "    if node.state == target:\n",
    "        return (pathway, node.g, explored_nodes)\n",
    "    elif limit == 0:\n",
    "        # print(\"Limite alcançado\")\n",
    "        return None\n",
    "    else:\n",
    "        # print(f\"{node.state} abre para: \")\n",
    "        # print(f\"{node.child}\")\n",
    "        for state in node.child:\n",
    "            child_node = Node(state=state, child=successor_function(state), g = node.g + 1, father = node.state)\n",
    "            result = RecursiveDLS(target=target, limit=limit-1, node=child_node, successor_function = successor_function, pathway = pathway.copy(), explored_nodes=explored_nodes)\n",
    "            if type(result) == tuple:\n",
    "                return result"
   ]
  },
  {
   "cell_type": "code",
   "execution_count": 167,
   "metadata": {},
   "outputs": [
    {
     "name": "stdout",
     "output_type": "stream",
     "text": [
      "----------------- Iteração 0 -----------------\n",
      "----------------- Iteração 1 -----------------\n",
      "----------------- Iteração 2 -----------------\n",
      "----------------- Iteração 3 -----------------\n",
      "----------------- Iteração 4 -----------------\n",
      "----------------- Iteração 5 -----------------\n",
      "----------------- Iteração 6 -----------------\n",
      "----------------- Iteração 7 -----------------\n",
      "----------------- Iteração 8 -----------------\n",
      "----------------- Iteração 9 -----------------\n",
      "----------------- Iteração 10 -----------------\n",
      "----------------- Iteração 11 -----------------\n",
      "----------------- Iteração 12 -----------------\n",
      "----------------- Iteração 13 -----------------\n",
      "----------------- Iteração 14 -----------------\n",
      "Resultado: Caminho: [[[3, 2, 8], [6, 0, 1], [5, 4, 7]], [[3, 2, 8], [6, 4, 1], [5, 0, 7]], [[3, 2, 8], [6, 4, 1], [0, 5, 7]], [[3, 2, 8], [0, 4, 1], [6, 5, 7]], [[3, 2, 8], [4, 0, 1], [6, 5, 7]], [[3, 2, 8], [4, 1, 0], [6, 5, 7]], [[3, 2, 0], [4, 1, 8], [6, 5, 7]], [[3, 0, 2], [4, 1, 8], [6, 5, 7]], [[3, 1, 2], [4, 0, 8], [6, 5, 7]], [[3, 1, 2], [4, 5, 8], [6, 0, 7]], [[3, 1, 2], [4, 5, 8], [6, 7, 0]], [[3, 1, 2], [4, 5, 0], [6, 7, 8]], [[3, 1, 2], [4, 0, 5], [6, 7, 8]], [[3, 1, 2], [0, 4, 5], [6, 7, 8]], [[0, 1, 2], [3, 4, 5], [6, 7, 8]]], Custo: 14, Expansões: 1018335\n",
      "Tempo de execução: 154.28993 segundos\n"
     ]
    }
   ],
   "source": [
    "initial_state = [[3,1,2],[4,0,5],[6,7,8]] #d=2\n",
    "initial_state = [[1,4,2],[6,3,5],[0,7,8]] #d=4\n",
    "initial_state = [[1,4,2],[3,0,7],[6,8,5]] #d=6\n",
    "initial_state = [[1,4,2],[6,3,7],[0,8,5]] #d=8\n",
    "initial_state = [[3,2,0],[6,1,8],[7,5,4]] #d=10\n",
    "initial_state = [[1,2,5],[3,4,6],[7,8,0]] #d=12\n",
    "# # #initial_state = [[6,1,5],[2,0,8],[7,3,4]] #d=16 irresolvivel\n",
    "initial_state = [[3,2,8],[6,0,1],[5,4,7]] #d=14\n",
    "\n",
    "start_time = perf_counter()\n",
    "result_ids = IterativeDeepeningSearch(initial = initial_state, target = target_state, successor_function = expand_nodes)\n",
    "end_time = perf_counter()\n",
    "\n",
    "print(\"Resultado:\", result_ids)\n",
    "print(\"Tempo de execução:\", format(end_time - start_time, \".5f\"), \"segundos\")"
   ]
  },
  {
   "cell_type": "code",
   "execution_count": 147,
   "metadata": {},
   "outputs": [],
   "source": [
    "def GreedySearch(initial, target, successor_function, heuristic_function):\n",
    "\n",
    "    target_path = target\n",
    "    node = Node(state = initial, child = successor_function(initial), f = heuristic_function(initial))\n",
    "    frontier = []\n",
    "    explored_names = []\n",
    "    explored_nodes = []\n",
    "    pathway = []\n",
    "\n",
    "    frontier.append(node)\n",
    "\n",
    "    while frontier:\n",
    "\n",
    "        min = frontier[0].f\n",
    "        index_min = 0\n",
    "\n",
    "        # print(frontier)\n",
    "        for i in range(len(frontier)):\n",
    "            if frontier[i].f < min:\n",
    "                min = frontier[i].f\n",
    "                index_min = i\n",
    "        \n",
    "        # print(f\"\\nO menor valor de Heurística é: {(frontier[index_min].f, frontier[index_min].state)}\")\n",
    "        \n",
    "        \n",
    "        first_node = frontier.pop(index_min)\n",
    "        explored_nodes.append(first_node)\n",
    "\n",
    "        if first_node.state == target_path:\n",
    "            for n in reversed(explored_nodes):\n",
    "                if n.state == target_path:\n",
    "                    pathway.append(n.state)\n",
    "                    target_path = n.father\n",
    "            pathway.reverse()\n",
    "            return f\"Caminho: {pathway}, Custo: {first_node.g}, Expansões: {len(explored_nodes)-1}, A serem expandidos{len(frontier)}\"\n",
    "        \n",
    "        explored_names.append(first_node.state)\n",
    "        # print(f\"Explorados: {explored_names}\\n\")\n",
    "        # print(f\"O estado {first_node.state}, abre para: \\n\")\n",
    "        for state in first_node.child:\n",
    "            # print(state)\n",
    "            node = Node(state = state, child = successor_function(state), f = heuristic_function(state), g = first_node.g + 1, father = first_node.state)\n",
    "            \n",
    "            frontier_states = [n.state for n in frontier]\n",
    "            if node.state not in explored_names and node.state not in frontier_states:\n",
    "                frontier.append(node)"
   ]
  },
  {
   "cell_type": "code",
   "execution_count": 202,
   "metadata": {},
   "outputs": [
    {
     "name": "stdout",
     "output_type": "stream",
     "text": [
      "Resultado: Caminho: [[[3, 2, 0], [6, 1, 8], [7, 5, 4]], [[3, 0, 2], [6, 1, 8], [7, 5, 4]], [[3, 1, 2], [6, 0, 8], [7, 5, 4]], [[3, 1, 2], [6, 5, 8], [7, 0, 4]], [[3, 1, 2], [6, 5, 8], [0, 7, 4]], [[3, 1, 2], [0, 5, 8], [6, 7, 4]], [[3, 1, 2], [5, 0, 8], [6, 7, 4]], [[3, 1, 2], [5, 7, 8], [6, 0, 4]], [[3, 1, 2], [5, 7, 8], [6, 4, 0]], [[3, 1, 2], [5, 7, 0], [6, 4, 8]], [[3, 1, 2], [5, 0, 7], [6, 4, 8]], [[3, 1, 2], [0, 5, 7], [6, 4, 8]], [[0, 1, 2], [3, 5, 7], [6, 4, 8]], [[1, 0, 2], [3, 5, 7], [6, 4, 8]], [[1, 2, 0], [3, 5, 7], [6, 4, 8]], [[1, 2, 7], [3, 5, 0], [6, 4, 8]], [[1, 2, 7], [3, 0, 5], [6, 4, 8]], [[1, 2, 7], [3, 4, 5], [6, 0, 8]], [[1, 2, 7], [3, 4, 5], [6, 8, 0]], [[1, 2, 7], [3, 4, 0], [6, 8, 5]], [[1, 2, 0], [3, 4, 7], [6, 8, 5]], [[1, 0, 2], [3, 4, 7], [6, 8, 5]], [[1, 4, 2], [3, 0, 7], [6, 8, 5]], [[1, 4, 2], [3, 7, 0], [6, 8, 5]], [[1, 4, 2], [3, 7, 5], [6, 8, 0]], [[1, 4, 2], [3, 7, 5], [6, 0, 8]], [[1, 4, 2], [3, 0, 5], [6, 7, 8]], [[1, 0, 2], [3, 4, 5], [6, 7, 8]], [[0, 1, 2], [3, 4, 5], [6, 7, 8]]], Custo: 28, Expansões: 212, A serem expandidos137\n",
      "Tempo de execução: 0.02584 segundos\n"
     ]
    }
   ],
   "source": [
    "initial_state = [[3,1,2],[4,0,5],[6,7,8]] #d=2\n",
    "initial_state = [[1,4,2],[6,3,5],[0,7,8]] #d=4\n",
    "initial_state = [[1,4,2],[3,0,7],[6,8,5]] #d=6\n",
    "initial_state = [[1,4,2],[6,3,7],[0,8,5]] #d=8\n",
    "initial_state = [[3,2,0],[6,1,8],[7,5,4]] #d=10\n",
    "# initial_state = [[1,2,5],[3,4,6],[7,8,0]] #d=12\n",
    "# initial_state = [[3,2,8],[6,0,1],[5,4,7]] #d=14\n",
    "\n",
    "start_time = perf_counter()\n",
    "result_gsw = GreedySearch(initial = initial_state, target = target_state, successor_function = expand_nodes, heuristic_function=wrong_blocks)\n",
    "end_time = perf_counter()\n",
    "\n",
    "\n",
    "print(\"Resultado:\", result_gsw)\n",
    "print(\"Tempo de execução:\", format(end_time - start_time, \".5f\"), \"segundos\")"
   ]
  },
  {
   "cell_type": "code",
   "execution_count": 186,
   "metadata": {},
   "outputs": [
    {
     "name": "stdout",
     "output_type": "stream",
     "text": [
      "Resultado: Caminho: [[[3, 2, 8], [6, 0, 1], [5, 4, 7]], [[3, 2, 8], [6, 4, 1], [5, 0, 7]], [[3, 2, 8], [6, 4, 1], [0, 5, 7]], [[3, 2, 8], [0, 4, 1], [6, 5, 7]], [[3, 2, 8], [4, 0, 1], [6, 5, 7]], [[3, 2, 8], [4, 1, 0], [6, 5, 7]], [[3, 2, 0], [4, 1, 8], [6, 5, 7]], [[3, 0, 2], [4, 1, 8], [6, 5, 7]], [[3, 1, 2], [4, 0, 8], [6, 5, 7]], [[3, 1, 2], [4, 5, 8], [6, 0, 7]], [[3, 1, 2], [4, 5, 8], [6, 7, 0]], [[3, 1, 2], [4, 5, 0], [6, 7, 8]], [[3, 1, 2], [4, 0, 5], [6, 7, 8]], [[3, 1, 2], [0, 4, 5], [6, 7, 8]], [[0, 1, 2], [3, 4, 5], [6, 7, 8]]], Custo: 14, Expansões: 19, A serem expandidos18\n",
      "Tempo de execução: 0.00223 segundos\n"
     ]
    }
   ],
   "source": [
    "initial_state = [[3,1,2],[4,0,5],[6,7,8]] #d=2\n",
    "initial_state = [[1,4,2],[6,3,5],[0,7,8]] #d=4\n",
    "initial_state = [[1,4,2],[3,0,7],[6,8,5]] #d=6\n",
    "initial_state = [[1,4,2],[6,3,7],[0,8,5]] #d=8\n",
    "initial_state = [[3,2,0],[6,1,8],[7,5,4]] #d=10\n",
    "initial_state = [[1,2,5],[3,4,6],[7,8,0]] #d=12\n",
    "initial_state = [[3,2,8],[6,0,1],[5,4,7]] #d=14\n",
    "\n",
    "start_time = perf_counter()\n",
    "result_gsm = GreedySearch(initial = initial_state, target = target_state, successor_function = expand_nodes, heuristic_function=manhattam_distance)\n",
    "end_time = perf_counter()\n",
    "\n",
    "print(\"Resultado:\", result_gsm)\n",
    "print(\"Tempo de execução:\", format(end_time - start_time, \".5f\"), \"segundos\")"
   ]
  },
  {
   "cell_type": "code",
   "execution_count": 150,
   "metadata": {},
   "outputs": [],
   "source": [
    "def aStar(initial, target, successor_function, heuristic_function):\n",
    "\n",
    "    target_path = target\n",
    "    node = Node(state = initial, child = successor_function(initial), f = heuristic_function(initial))\n",
    "    frontier = []\n",
    "    explored_names = []\n",
    "    explored_nodes = []\n",
    "    pathway = []\n",
    "\n",
    "    frontier.append(node)\n",
    "\n",
    "    while frontier:\n",
    "\n",
    "        # print(frontier)\n",
    "        min = frontier[0].f\n",
    "        index_min = 0\n",
    "\n",
    "        for i in range(len(frontier)):\n",
    "            if frontier[i].f < min:\n",
    "                min = frontier[i].f\n",
    "                index_min = i\n",
    "        \n",
    "        # print(f\"\\nO menor custo é de: {(frontier[index_min].f, frontier[index_min].state)}\")\n",
    "        \n",
    "    \n",
    "        first_node = frontier.pop(index_min)\n",
    "        explored_nodes.append(first_node)\n",
    "        \n",
    "        if first_node.state == target_path:\n",
    "            for n in reversed(explored_nodes):\n",
    "                if n.state == target_path:\n",
    "                    pathway.append(n.state)\n",
    "                    target_path = n.father\n",
    "            pathway.reverse()\n",
    "            return f\"Caminho: {pathway}, Custo: {first_node.g}, Expansões: {len(explored_nodes)-1}, A serem expandidos{len(frontier)}\"\n",
    "        \n",
    "        explored_names.append(first_node.state)\n",
    "        # print(f\"Explorados: {explored_names}\\n\")\n",
    "        # print(f\"O estado {first_node.state}, abre para: \\n\")\n",
    "        for state in first_node.child:\n",
    "            # print(state)\n",
    "            node = Node(state = state, child = successor_function(state), g = first_node.g + 1, father = first_node.state)\n",
    "            node.f = heuristic_function(state) + node.g\n",
    "\n",
    "            frontier_names = [frontier_node.state for frontier_node in frontier]\n",
    "            \n",
    "            if node.state not in explored_names and node.state not in frontier_names:\n",
    "                frontier.append(node)\n",
    "            elif node.state in frontier_names:\n",
    "                same_state = [n for n in frontier if n.state == node.state]\n",
    "                if node.g < same_state[0].g:\n",
    "                    # print(f\"Remove -> {same_state[0].g}\")\n",
    "                    # print(f\"Adiciona -> {node.g}\")\n",
    "                    frontier.remove(same_state[0])\n",
    "                    frontier.append(node)\n"
   ]
  },
  {
   "cell_type": "code",
   "execution_count": 195,
   "metadata": {},
   "outputs": [
    {
     "name": "stdout",
     "output_type": "stream",
     "text": [
      "Resultado: Caminho: [[[3, 2, 8], [6, 0, 1], [5, 4, 7]], [[3, 2, 8], [6, 1, 0], [5, 4, 7]], [[3, 2, 0], [6, 1, 8], [5, 4, 7]], [[3, 0, 2], [6, 1, 8], [5, 4, 7]], [[3, 1, 2], [6, 0, 8], [5, 4, 7]], [[3, 1, 2], [6, 4, 8], [5, 0, 7]], [[3, 1, 2], [6, 4, 8], [0, 5, 7]], [[3, 1, 2], [0, 4, 8], [6, 5, 7]], [[3, 1, 2], [4, 0, 8], [6, 5, 7]], [[3, 1, 2], [4, 5, 8], [6, 0, 7]], [[3, 1, 2], [4, 5, 8], [6, 7, 0]], [[3, 1, 2], [4, 5, 0], [6, 7, 8]], [[3, 1, 2], [4, 0, 5], [6, 7, 8]], [[3, 1, 2], [0, 4, 5], [6, 7, 8]], [[0, 1, 2], [3, 4, 5], [6, 7, 8]]], Custo: 14, Expansões: 265, A serem expandidos171\n",
      "Tempo de execução: 0.03365 segundos\n"
     ]
    }
   ],
   "source": [
    "initial_state = [[3,1,2],[4,0,5],[6,7,8]] #d=2\n",
    "initial_state = [[1,4,2],[6,3,5],[0,7,8]] #d=4\n",
    "initial_state = [[1,4,2],[3,0,7],[6,8,5]] #d=6\n",
    "initial_state = [[1,4,2],[6,3,7],[0,8,5]] #d=8\n",
    "initial_state = [[3,2,0],[6,1,8],[7,5,4]] #d=10\n",
    "initial_state = [[1,2,5],[3,4,6],[7,8,0]] #d=12\n",
    "initial_state = [[3,2,8],[6,0,1],[5,4,7]] #d=14\n",
    "\n",
    "\n",
    "start_time = perf_counter()\n",
    "result_asw = aStar(initial = initial_state, target = target_state, successor_function = expand_nodes, heuristic_function=wrong_blocks)\n",
    "end_time = perf_counter()\n",
    "\n",
    "print(\"Resultado:\", result_asw)\n",
    "print(\"Tempo de execução:\", format(end_time - start_time, \".5f\"), \"segundos\")"
   ]
  },
  {
   "cell_type": "code",
   "execution_count": 203,
   "metadata": {},
   "outputs": [
    {
     "name": "stdout",
     "output_type": "stream",
     "text": [
      "Resultado: Caminho: [[[3, 2, 0], [6, 1, 8], [7, 5, 4]], [[3, 0, 2], [6, 1, 8], [7, 5, 4]], [[3, 1, 2], [6, 0, 8], [7, 5, 4]], [[3, 1, 2], [6, 5, 8], [7, 0, 4]], [[3, 1, 2], [6, 5, 8], [7, 4, 0]], [[3, 1, 2], [6, 5, 0], [7, 4, 8]], [[3, 1, 2], [6, 0, 5], [7, 4, 8]], [[3, 1, 2], [6, 4, 5], [7, 0, 8]], [[3, 1, 2], [6, 4, 5], [0, 7, 8]], [[3, 1, 2], [0, 4, 5], [6, 7, 8]], [[0, 1, 2], [3, 4, 5], [6, 7, 8]]], Custo: 10, Expansões: 13, A serem expandidos11\n",
      "Tempo de execução: 0.00155 segundos\n"
     ]
    }
   ],
   "source": [
    "initial_state = [[3,1,2],[4,0,5],[6,7,8]] #d=2\n",
    "initial_state = [[1,4,2],[6,3,5],[0,7,8]] #d=4\n",
    "# initial_state = [[1,4,2],[3,0,7],[6,8,5]] #d=6\n",
    "# initial_state = [[1,4,2],[6,3,7],[0,8,5]] #d=8\n",
    "initial_state = [[3,2,0],[6,1,8],[7,5,4]] #d=10\n",
    "# initial_state = [[1,2,5],[3,4,6],[7,8,0]] #d=12\n",
    "# initial_state = [[3,2,8],[6,0,1],[5,4,7]] #d=14\n",
    "\n",
    "start_time = perf_counter()\n",
    "result_asm = aStar(initial = initial_state, target = target_state, successor_function = expand_nodes, heuristic_function=manhattam_distance)\n",
    "end_time = perf_counter()\n",
    "\n",
    "print(\"Resultado:\", result_asm)\n",
    "print(\"Tempo de execução:\", format(end_time - start_time, \".5f\"), \"segundos\")\n"
   ]
  },
  {
   "cell_type": "code",
   "execution_count": 153,
   "metadata": {},
   "outputs": [],
   "source": [
    "# result_bfs = None\n",
    "# while result_bfs == None:\n",
    "#     initial_state = generate_state()\n",
    "#     result_bfs = aStar(initial = initial_state, target = target_state, successor_function = expand_nodes, heuristic_function=manhattam_distance, limit=6)\n",
    "# print(result_bfs)"
   ]
  }
 ],
 "metadata": {
  "kernelspec": {
   "display_name": "Python 3",
   "language": "python",
   "name": "python3"
  },
  "language_info": {
   "codemirror_mode": {
    "name": "ipython",
    "version": 3
   },
   "file_extension": ".py",
   "mimetype": "text/x-python",
   "name": "python",
   "nbconvert_exporter": "python",
   "pygments_lexer": "ipython3",
   "version": "3.11.4"
  }
 },
 "nbformat": 4,
 "nbformat_minor": 2
}
